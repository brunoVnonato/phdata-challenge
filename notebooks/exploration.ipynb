{
 "cells": [
  {
   "cell_type": "code",
   "execution_count": 1,
   "id": "044976fc",
   "metadata": {},
   "outputs": [
    {
     "data": {
      "text/plain": [
       "True"
      ]
     },
     "execution_count": 1,
     "metadata": {},
     "output_type": "execute_result"
    }
   ],
   "source": [
    "import os\n",
    "import pandas as pd\n",
    "from dotenv import load_dotenv\n",
    "\n",
    "# Set the env variables\n",
    "load_dotenv()"
   ]
  },
  {
   "cell_type": "markdown",
   "id": "ec943221",
   "metadata": {},
   "source": [
    "## Exploring data"
   ]
  },
  {
   "cell_type": "code",
   "execution_count": 8,
   "id": "205a2daf",
   "metadata": {},
   "outputs": [
    {
     "data": {
      "text/plain": [
       "'/app/data/zipcode_demographics.csv'"
      ]
     },
     "execution_count": 8,
     "metadata": {},
     "output_type": "execute_result"
    }
   ],
   "source": [
    "mock = os.environ['APP_DEMOGRAPHICS_PATH']\n",
    "mock"
   ]
  },
  {
   "cell_type": "code",
   "execution_count": 2,
   "id": "e3eefc00",
   "metadata": {},
   "outputs": [],
   "source": [
    "SALES_PATH = os.getenv(\"SALES_PATH\")                      #\"../data/kc_house_data.csv\"  # path to CSV with home sale data\n",
    "DEMOGRAPHICS_PATH = os.getenv(\"DEMOGRAPHICS_PATH\")           #\"../data/zipcode_demographics.csv\"  # path to CSV with demographics\n",
    "# List of columns (subset) that will be taken from home sale data\n",
    "SALES_COLUMN_SELECTION = os.getenv(\"SALES_COLUMN_SELECTION\") #['price', 'bedrooms', 'bathrooms', 'sqft_living', 'sqft_lot', 'floors','sqft_above', 'sqft_basement', 'zipcode'] \n",
    "OUTPUT_DIR = os.getenv(\"OUTPUT_DIR\")                         #\"model\"  # Directory where output artifacts will be saved"
   ]
  },
  {
   "cell_type": "code",
   "execution_count": 7,
   "id": "43123536",
   "metadata": {},
   "outputs": [
    {
     "data": {
      "text/plain": [
       "'../data/kc_house_data.csv'"
      ]
     },
     "execution_count": 7,
     "metadata": {},
     "output_type": "execute_result"
    }
   ],
   "source": [
    "SALES_PATH"
   ]
  },
  {
   "cell_type": "code",
   "execution_count": 40,
   "id": "d9e7e951",
   "metadata": {},
   "outputs": [],
   "source": [
    "data = pd.read_csv(SALES_PATH,\n",
    "                           #usecols=eval(SALES_COLUMN_SELECTION),\n",
    "                           dtype={'zipcode': str})\n",
    "demographics = pd.read_csv(DEMOGRAPHICS_PATH,\n",
    "                                   dtype={'zipcode': str})"
   ]
  },
  {
   "cell_type": "code",
   "execution_count": 5,
   "id": "137c9951",
   "metadata": {},
   "outputs": [
    {
     "data": {
      "text/html": [
       "<div>\n",
       "<style scoped>\n",
       "    .dataframe tbody tr th:only-of-type {\n",
       "        vertical-align: middle;\n",
       "    }\n",
       "\n",
       "    .dataframe tbody tr th {\n",
       "        vertical-align: top;\n",
       "    }\n",
       "\n",
       "    .dataframe thead th {\n",
       "        text-align: right;\n",
       "    }\n",
       "</style>\n",
       "<table border=\"1\" class=\"dataframe\">\n",
       "  <thead>\n",
       "    <tr style=\"text-align: right;\">\n",
       "      <th></th>\n",
       "      <th>price</th>\n",
       "      <th>bedrooms</th>\n",
       "      <th>bathrooms</th>\n",
       "      <th>sqft_living</th>\n",
       "      <th>sqft_lot</th>\n",
       "      <th>floors</th>\n",
       "      <th>sqft_above</th>\n",
       "      <th>sqft_basement</th>\n",
       "      <th>zipcode</th>\n",
       "    </tr>\n",
       "  </thead>\n",
       "  <tbody>\n",
       "    <tr>\n",
       "      <th>0</th>\n",
       "      <td>221900.0</td>\n",
       "      <td>3</td>\n",
       "      <td>1.00</td>\n",
       "      <td>1180</td>\n",
       "      <td>5650</td>\n",
       "      <td>1.0</td>\n",
       "      <td>1180</td>\n",
       "      <td>0</td>\n",
       "      <td>98178</td>\n",
       "    </tr>\n",
       "    <tr>\n",
       "      <th>1</th>\n",
       "      <td>538000.0</td>\n",
       "      <td>3</td>\n",
       "      <td>2.25</td>\n",
       "      <td>2570</td>\n",
       "      <td>7242</td>\n",
       "      <td>2.0</td>\n",
       "      <td>2170</td>\n",
       "      <td>400</td>\n",
       "      <td>98125</td>\n",
       "    </tr>\n",
       "    <tr>\n",
       "      <th>2</th>\n",
       "      <td>180000.0</td>\n",
       "      <td>2</td>\n",
       "      <td>1.00</td>\n",
       "      <td>770</td>\n",
       "      <td>10000</td>\n",
       "      <td>1.0</td>\n",
       "      <td>770</td>\n",
       "      <td>0</td>\n",
       "      <td>98028</td>\n",
       "    </tr>\n",
       "  </tbody>\n",
       "</table>\n",
       "</div>"
      ],
      "text/plain": [
       "      price  bedrooms  bathrooms  sqft_living  sqft_lot  floors  sqft_above  \\\n",
       "0  221900.0         3       1.00         1180      5650     1.0        1180   \n",
       "1  538000.0         3       2.25         2570      7242     2.0        2170   \n",
       "2  180000.0         2       1.00          770     10000     1.0         770   \n",
       "\n",
       "   sqft_basement zipcode  \n",
       "0              0   98178  \n",
       "1            400   98125  \n",
       "2              0   98028  "
      ]
     },
     "execution_count": 5,
     "metadata": {},
     "output_type": "execute_result"
    }
   ],
   "source": [
    "data.head(3)"
   ]
  },
  {
   "cell_type": "code",
   "execution_count": 6,
   "id": "aee2b746",
   "metadata": {},
   "outputs": [
    {
     "data": {
      "text/plain": [
       "price            float64\n",
       "bedrooms           int64\n",
       "bathrooms        float64\n",
       "sqft_living        int64\n",
       "sqft_lot           int64\n",
       "floors           float64\n",
       "sqft_above         int64\n",
       "sqft_basement      int64\n",
       "zipcode           object\n",
       "dtype: object"
      ]
     },
     "execution_count": 6,
     "metadata": {},
     "output_type": "execute_result"
    }
   ],
   "source": [
    "data.dtypes"
   ]
  },
  {
   "cell_type": "code",
   "execution_count": 6,
   "id": "7c479584",
   "metadata": {},
   "outputs": [
    {
     "data": {
      "text/plain": [
       "Index(['ppltn_qty', 'urbn_ppltn_qty', 'sbrbn_ppltn_qty', 'farm_ppltn_qty',\n",
       "       'non_farm_qty', 'medn_hshld_incm_amt', 'medn_incm_per_prsn_amt',\n",
       "       'hous_val_amt', 'edctn_less_than_9_qty', 'edctn_9_12_qty',\n",
       "       'edctn_high_schl_qty', 'edctn_some_clg_qty', 'edctn_assoc_dgre_qty',\n",
       "       'edctn_bchlr_dgre_qty', 'edctn_prfsnl_qty', 'per_urbn', 'per_sbrbn',\n",
       "       'per_farm', 'per_non_farm', 'per_less_than_9', 'per_9_to_12', 'per_hsd',\n",
       "       'per_some_clg', 'per_assoc', 'per_bchlr', 'per_prfsnl', 'zipcode'],\n",
       "      dtype='object')"
      ]
     },
     "execution_count": 6,
     "metadata": {},
     "output_type": "execute_result"
    }
   ],
   "source": [
    "demographics.columns"
   ]
  },
  {
   "cell_type": "markdown",
   "id": "2aab224e",
   "metadata": {},
   "source": [
    "## Test script"
   ]
  },
  {
   "cell_type": "code",
   "execution_count": 42,
   "id": "6a4262ee",
   "metadata": {},
   "outputs": [
    {
     "data": {
      "text/plain": [
       "Index(['id', 'date', 'price', 'bedrooms', 'bathrooms', 'sqft_living',\n",
       "       'sqft_lot', 'floors', 'waterfront', 'view', 'condition', 'grade',\n",
       "       'sqft_above', 'sqft_basement', 'yr_built', 'yr_renovated', 'zipcode',\n",
       "       'lat', 'long', 'sqft_living15', 'sqft_lot15'],\n",
       "      dtype='object')"
      ]
     },
     "execution_count": 42,
     "metadata": {},
     "output_type": "execute_result"
    }
   ],
   "source": [
    "data.columns"
   ]
  },
  {
   "cell_type": "code",
   "execution_count": 43,
   "id": "a68e0b3f",
   "metadata": {},
   "outputs": [
    {
     "data": {
      "text/plain": [
       "Index(['bedrooms', 'bathrooms', 'sqft_living', 'sqft_lot', 'floors',\n",
       "       'waterfront', 'view', 'condition', 'grade', 'sqft_above',\n",
       "       'sqft_basement', 'yr_built', 'yr_renovated', 'zipcode', 'lat', 'long',\n",
       "       'sqft_living15', 'sqft_lot15'],\n",
       "      dtype='object')"
      ]
     },
     "execution_count": 43,
     "metadata": {},
     "output_type": "execute_result"
    }
   ],
   "source": [
    "unseen_data.columns"
   ]
  },
  {
   "cell_type": "code",
   "execution_count": 39,
   "id": "7ab540d7",
   "metadata": {},
   "outputs": [
    {
     "data": {
      "text/plain": [
       "Index(['ppltn_qty', 'urbn_ppltn_qty', 'sbrbn_ppltn_qty', 'farm_ppltn_qty',\n",
       "       'non_farm_qty', 'medn_hshld_incm_amt', 'medn_incm_per_prsn_amt',\n",
       "       'hous_val_amt', 'edctn_less_than_9_qty', 'edctn_9_12_qty',\n",
       "       'edctn_high_schl_qty', 'edctn_some_clg_qty', 'edctn_assoc_dgre_qty',\n",
       "       'edctn_bchlr_dgre_qty', 'edctn_prfsnl_qty', 'per_urbn', 'per_sbrbn',\n",
       "       'per_farm', 'per_non_farm', 'per_less_than_9', 'per_9_to_12', 'per_hsd',\n",
       "       'per_some_clg', 'per_assoc', 'per_bchlr', 'per_prfsnl', 'zipcode'],\n",
       "      dtype='object')"
      ]
     },
     "execution_count": 39,
     "metadata": {},
     "output_type": "execute_result"
    }
   ],
   "source": [
    "demographics.columns"
   ]
  },
  {
   "cell_type": "code",
   "execution_count": 19,
   "id": "bf36cfa7",
   "metadata": {},
   "outputs": [],
   "source": [
    "import json\n",
    "import requests\n",
    "\n",
    "\n",
    "def test_hard_predict(url: str=os.getenv(\"URL_HARD_PREDICT\")):\n",
    " \n",
    "    # Header\n",
    "    headers = {\"content-type\": \"application/json\", \"Accept-Charset\": \"UTF-8\"}\n",
    "\n",
    "    # Load unseen data\n",
    "    features = eval(os.getenv(\"SALES_COLUMN_SELECTION\"))\n",
    "    features.remove('price')\n",
    "    unseen_data_path = os.getenv(\"UNSEEN_DATA\")\n",
    "    unseen_data = pd.read_csv(unseen_data_path)\n",
    "    unseen_data = unseen_data[features]\n",
    "\n",
    "    # Json\n",
    "    data_string = unseen_data.to_json(orient='columns')\n",
    "    data_load = json.loads(data_string)\n",
    "\n",
    "    # Request\n",
    "    r = requests.post(url, data=data_load, headers=headers)\n",
    "    return print(r, r.text)\n",
    "\n",
    "def test_soft_predict(url: str=os.getenv(\"URL_SOFT_PREDICT\")):\n",
    " \n",
    "    # Header\n",
    "    headers = {\"content-type\": \"application/json\", \"Accept-Charset\": \"UTF-8\"}\n",
    "\n",
    "    # Load unseen data\n",
    "    unseen_data_path = os.getenv(\"UNSEEN_DATA\")\n",
    "    unseen_data = pd.read_csv(unseen_data_path)\n",
    "\n",
    "    # Json\n",
    "    data_string = unseen_data.to_json(orient='columns')\n",
    "    data_load = json.loads(data_string)\n",
    "\n",
    "    # Request\n",
    "    r = requests.post(url, data=data_load, headers=headers)\n",
    "    return print(r, r.text)"
   ]
  },
  {
   "cell_type": "code",
   "execution_count": 14,
   "id": "21402420",
   "metadata": {},
   "outputs": [],
   "source": [
    "features = eval(os.getenv(\"SALES_COLUMN_SELECTION\"))\n",
    "#columns = features.remove('price')"
   ]
  },
  {
   "cell_type": "code",
   "execution_count": 129,
   "id": "1251663e",
   "metadata": {},
   "outputs": [
    {
     "name": "stdout",
     "output_type": "stream",
     "text": [
      "{'bedrooms': 4, 'bathrooms': 1.0, 'sqft_living': 1680, 'sqft_lot': 5043, 'floors': 1.5, 'sqft_above': 1680, 'sqft_basement': 0, 'zipcode': 98118}\n"
     ]
    }
   ],
   "source": [
    "# Load unseen data\n",
    "features = eval(os.getenv(\"SALES_COLUMN_SELECTION\"))\n",
    "features.remove('price')\n",
    "unseen_data_path = os.getenv(\"UNSEEN_DATA\")\n",
    "unseen_data = pd.read_csv(unseen_data_path)\n",
    "unseen_data = unseen_data[features]\n",
    "\n",
    "n=3\n",
    "\n",
    "data_string = unseen_data[0:n].to_json(orient='records',force_ascii=True)\n",
    "data_load = json.loads(data_string)\n",
    "print(data_load[0])\n",
    "\n",
    "\n",
    "\n",
    "# Json\n",
    "#data_string = unseen_data.to_json(orient='columns')\n",
    "data_string = unseen_data[:3].to_json(orient='records',force_ascii=True)\n",
    "#data_string = data_string.replace(\"[\",\"{\")\n",
    "#data_string = data_string.replace(\"]\",\"}\")\n",
    "\n",
    "data_load = json.loads(data_string)\n"
   ]
  },
  {
   "cell_type": "code",
   "execution_count": 130,
   "id": "ad0b1182",
   "metadata": {},
   "outputs": [
    {
     "data": {
      "text/plain": [
       "[{'bedrooms': 4,\n",
       "  'bathrooms': 1.0,\n",
       "  'sqft_living': 1680,\n",
       "  'sqft_lot': 5043,\n",
       "  'floors': 1.5,\n",
       "  'sqft_above': 1680,\n",
       "  'sqft_basement': 0,\n",
       "  'zipcode': 98118},\n",
       " {'bedrooms': 3,\n",
       "  'bathrooms': 2.5,\n",
       "  'sqft_living': 2220,\n",
       "  'sqft_lot': 6380,\n",
       "  'floors': 1.5,\n",
       "  'sqft_above': 1660,\n",
       "  'sqft_basement': 560,\n",
       "  'zipcode': 98115},\n",
       " {'bedrooms': 3,\n",
       "  'bathrooms': 2.25,\n",
       "  'sqft_living': 1630,\n",
       "  'sqft_lot': 10962,\n",
       "  'floors': 1.0,\n",
       "  'sqft_above': 1100,\n",
       "  'sqft_basement': 530,\n",
       "  'zipcode': 98030}]"
      ]
     },
     "execution_count": 130,
     "metadata": {},
     "output_type": "execute_result"
    }
   ],
   "source": [
    "data_load"
   ]
  },
  {
   "cell_type": "code",
   "execution_count": 123,
   "id": "e85e4b85",
   "metadata": {},
   "outputs": [
    {
     "data": {
      "text/html": [
       "<div>\n",
       "<style scoped>\n",
       "    .dataframe tbody tr th:only-of-type {\n",
       "        vertical-align: middle;\n",
       "    }\n",
       "\n",
       "    .dataframe tbody tr th {\n",
       "        vertical-align: top;\n",
       "    }\n",
       "\n",
       "    .dataframe thead th {\n",
       "        text-align: right;\n",
       "    }\n",
       "</style>\n",
       "<table border=\"1\" class=\"dataframe\">\n",
       "  <thead>\n",
       "    <tr style=\"text-align: right;\">\n",
       "      <th></th>\n",
       "      <th>bedrooms</th>\n",
       "      <th>bathrooms</th>\n",
       "      <th>sqft_living</th>\n",
       "      <th>sqft_lot</th>\n",
       "      <th>floors</th>\n",
       "      <th>sqft_above</th>\n",
       "      <th>sqft_basement</th>\n",
       "      <th>zipcode</th>\n",
       "    </tr>\n",
       "  </thead>\n",
       "  <tbody>\n",
       "    <tr>\n",
       "      <th>0</th>\n",
       "      <td>4</td>\n",
       "      <td>1.00</td>\n",
       "      <td>1680</td>\n",
       "      <td>5043</td>\n",
       "      <td>1.5</td>\n",
       "      <td>1680</td>\n",
       "      <td>0</td>\n",
       "      <td>98118</td>\n",
       "    </tr>\n",
       "    <tr>\n",
       "      <th>1</th>\n",
       "      <td>3</td>\n",
       "      <td>2.50</td>\n",
       "      <td>2220</td>\n",
       "      <td>6380</td>\n",
       "      <td>1.5</td>\n",
       "      <td>1660</td>\n",
       "      <td>560</td>\n",
       "      <td>98115</td>\n",
       "    </tr>\n",
       "    <tr>\n",
       "      <th>2</th>\n",
       "      <td>3</td>\n",
       "      <td>2.25</td>\n",
       "      <td>1630</td>\n",
       "      <td>10962</td>\n",
       "      <td>1.0</td>\n",
       "      <td>1100</td>\n",
       "      <td>530</td>\n",
       "      <td>98030</td>\n",
       "    </tr>\n",
       "  </tbody>\n",
       "</table>\n",
       "</div>"
      ],
      "text/plain": [
       "   bedrooms  bathrooms  sqft_living  sqft_lot  floors  sqft_above  \\\n",
       "0         4       1.00         1680      5043     1.5        1680   \n",
       "1         3       2.50         2220      6380     1.5        1660   \n",
       "2         3       2.25         1630     10962     1.0        1100   \n",
       "\n",
       "   sqft_basement  zipcode  \n",
       "0              0    98118  \n",
       "1            560    98115  \n",
       "2            530    98030  "
      ]
     },
     "execution_count": 123,
     "metadata": {},
     "output_type": "execute_result"
    }
   ],
   "source": [
    "pd.DataFrame(data_load)"
   ]
  },
  {
   "cell_type": "markdown",
   "id": "9c40315a",
   "metadata": {},
   "source": [
    "## Testing inference"
   ]
  },
  {
   "cell_type": "code",
   "execution_count": 125,
   "id": "58ce9548",
   "metadata": {},
   "outputs": [],
   "source": [
    "import pickle\n",
    "import logging\n",
    "from pydantic import BaseModel, Field\n",
    "from fastapi import HTTPException\n",
    "from typing import Dict, List, Union\n",
    "\n",
    "model_file = open(os.getenv(\"MODEL_PATH\"), 'rb')\n",
    "MODEL = pickle.load(model_file)\n",
    "\n",
    "\n",
    "data_string = unseen_data[:3].to_json(orient='split',force_ascii=True)\n",
    "data_load = json.loads(data_string)\n",
    "\n",
    "\n",
    "class PayloadValidation(BaseModel):\n",
    "    bedrooms: dict = Field(default={})\n",
    "    bathrooms: dict = Field(default={})\n",
    "    sqft_living: dict = Field(default={})\n",
    "    sqft_lot: dict = Field(default={})\n",
    "    floors: dict = Field(default={})\n",
    "    sqft_above: dict = Field(default={})\n",
    "    sqft_basement: dict = Field(default={})\n",
    "\n",
    "class InputPayload(BaseModel):\n",
    "    columns: List[str]\n",
    "    index: List[int]\n",
    "    data: List[List[Union[int, float]]]\n",
    "\n",
    "class HouseFeatures(BaseModel):\n",
    "    bedrooms: int\n",
    "    bathrooms: float\n",
    "    sqft_living: int\n",
    "    sqft_lot: int\n",
    "    floors: float\n",
    "    sqft_above: int\n",
    "    sqft_basement: int\n",
    "    zipcode: int\n",
    "\n",
    "class HouseBatchInput(BaseModel):\n",
    "    houses: List[HouseFeatures]\n"
   ]
  },
  {
   "cell_type": "code",
   "execution_count": 159,
   "id": "b41280b5",
   "metadata": {},
   "outputs": [
    {
     "data": {
      "text/plain": [
       "HouseBatchInput(houses=[HouseFeatures(bedrooms=4, bathrooms=1.0, sqft_living=1680, sqft_lot=5043, floors=1.5, sqft_above=1680, sqft_basement=0, zipcode=98118), HouseFeatures(bedrooms=3, bathrooms=2.5, sqft_living=2220, sqft_lot=6380, floors=1.5, sqft_above=1660, sqft_basement=560, zipcode=98115), HouseFeatures(bedrooms=3, bathrooms=2.25, sqft_living=1630, sqft_lot=10962, floors=1.0, sqft_above=1100, sqft_basement=530, zipcode=98030)])"
      ]
     },
     "execution_count": 159,
     "metadata": {},
     "output_type": "execute_result"
    }
   ],
   "source": [
    "batch = {\"houses\":data_load}\n",
    "data = HouseBatchInput(**batch)\n",
    "data\n",
    "#pd.DataFrame(data)"
   ]
  },
  {
   "cell_type": "code",
   "execution_count": 189,
   "id": "8b1887c3",
   "metadata": {},
   "outputs": [
    {
     "data": {
      "text/plain": [
       "<enumerate at 0x7c3cec33a880>"
      ]
     },
     "execution_count": 189,
     "metadata": {},
     "output_type": "execute_result"
    }
   ],
   "source": [
    "enumerate(data.houses)"
   ]
  },
  {
   "cell_type": "code",
   "execution_count": 187,
   "id": "2236e06a",
   "metadata": {},
   "outputs": [],
   "source": [
    "message_data=pd.DataFrame()\n",
    "for i,_ in enumerate(data.houses):\n",
    "    temp_data = pd.DataFrame([data.houses[i].model_dump()])\n",
    "    message_data = pd.concat([message_data,temp_data], ignore_index=True)\n",
    "#list(data.houses[0].model_dump().values())\n"
   ]
  },
  {
   "cell_type": "code",
   "execution_count": 198,
   "id": "10a30cd2",
   "metadata": {},
   "outputs": [
    {
     "data": {
      "text/plain": [
       "98118.0"
      ]
     },
     "execution_count": 198,
     "metadata": {},
     "output_type": "execute_result"
    }
   ],
   "source": [
    "message_data.iloc[0]['zipcode']"
   ]
  },
  {
   "cell_type": "code",
   "execution_count": 202,
   "id": "938e643b",
   "metadata": {},
   "outputs": [
    {
     "data": {
      "text/plain": [
       "'[{\"bedrooms\":4,\"bathrooms\":1.0,\"sqft_living\":1680,\"sqft_lot\":5043,\"floors\":1.5,\"waterfront\":0,\"view\":0,\"condition\":4,\"grade\":6,\"sqft_above\":1680,\"sqft_basement\":0,\"yr_built\":1911,\"yr_renovated\":0,\"zipcode\":98118,\"lat\":47.5354,\"long\":-122.273,\"sqft_living15\":1560,\"sqft_lot15\":5765}]'"
      ]
     },
     "execution_count": 202,
     "metadata": {},
     "output_type": "execute_result"
    }
   ],
   "source": [
    "unseen_data_path = os.getenv(\"UNSEEN_DATA\")\n",
    "unseen_data = pd.read_csv(unseen_data_path)\n",
    "data_string = unseen_data[:1].to_json(orient='records', force_ascii=True)\n",
    "data_string"
   ]
  },
  {
   "cell_type": "markdown",
   "id": "fc08a5e0",
   "metadata": {},
   "source": [
    "## Create Model"
   ]
  },
  {
   "cell_type": "code",
   "execution_count": null,
   "id": "3c8aa7d2",
   "metadata": {},
   "outputs": [
    {
     "name": "stdout",
     "output_type": "stream",
     "text": [
      "[False False False ... False False False]\n"
     ]
    },
    {
     "ename": "AttributeError",
     "evalue": "'numpy.ndarray' object has no attribute 'to_numpy'",
     "output_type": "error",
     "traceback": [
      "\u001b[0;31m---------------------------------------------------------------------------\u001b[0m",
      "\u001b[0;31mAttributeError\u001b[0m                            Traceback (most recent call last)",
      "Cell \u001b[0;32mIn[220], line 200\u001b[0m\n\u001b[1;32m    195\u001b[0m     json\u001b[38;5;241m.\u001b[39mdump(\u001b[38;5;28mlist\u001b[39m(x_train\u001b[38;5;241m.\u001b[39mcolumns),\n\u001b[1;32m    196\u001b[0m               \u001b[38;5;28mopen\u001b[39m(output_dir \u001b[38;5;241m/\u001b[39m \u001b[38;5;124m\"\u001b[39m\u001b[38;5;124mmodel_features.json\u001b[39m\u001b[38;5;124m\"\u001b[39m, \u001b[38;5;124m'\u001b[39m\u001b[38;5;124mw\u001b[39m\u001b[38;5;124m'\u001b[39m))\n\u001b[1;32m    199\u001b[0m \u001b[38;5;28;01mif\u001b[39;00m \u001b[38;5;18m__name__\u001b[39m \u001b[38;5;241m==\u001b[39m \u001b[38;5;124m\"\u001b[39m\u001b[38;5;124m__main__\u001b[39m\u001b[38;5;124m\"\u001b[39m:\n\u001b[0;32m--> 200\u001b[0m     \u001b[43mmain\u001b[49m\u001b[43m(\u001b[49m\u001b[43m)\u001b[49m\n",
      "Cell \u001b[0;32mIn[220], line 184\u001b[0m, in \u001b[0;36mmain\u001b[0;34m()\u001b[0m\n\u001b[1;32m    179\u001b[0m \u001b[38;5;66;03m# Model Evaluation\u001b[39;00m\n\u001b[1;32m    180\u001b[0m metrics, pred \u001b[38;5;241m=\u001b[39m model_evaluation(model\u001b[38;5;241m=\u001b[39mmodel, \n\u001b[1;32m    181\u001b[0m                            X_test\u001b[38;5;241m=\u001b[39m_x_test, \n\u001b[1;32m    182\u001b[0m                            y_test\u001b[38;5;241m=\u001b[39m_y_test)\n\u001b[0;32m--> 184\u001b[0m \u001b[43mplot_regression_results\u001b[49m\u001b[43m(\u001b[49m\u001b[43mX\u001b[49m\u001b[38;5;241;43m=\u001b[39;49m\u001b[43m_x_test\u001b[49m\u001b[43m,\u001b[49m\u001b[43m \u001b[49m\u001b[43my\u001b[49m\u001b[38;5;241;43m=\u001b[39;49m\u001b[43m_y_test\u001b[49m\u001b[43m,\u001b[49m\u001b[43m \u001b[49m\u001b[43mpred\u001b[49m\u001b[38;5;241;43m=\u001b[39;49m\u001b[43mpred\u001b[49m\u001b[43m)\u001b[49m\n\u001b[1;32m    186\u001b[0m output_dir \u001b[38;5;241m=\u001b[39m pathlib\u001b[38;5;241m.\u001b[39mPath(OUTPUT_DIR)\n\u001b[1;32m    187\u001b[0m output_dir\u001b[38;5;241m.\u001b[39mmkdir(exist_ok\u001b[38;5;241m=\u001b[39m\u001b[38;5;28;01mTrue\u001b[39;00m)\n",
      "Cell \u001b[0;32mIn[220], line 139\u001b[0m, in \u001b[0;36mplot_regression_results\u001b[0;34m(X, y, pred, output_dir, prefix)\u001b[0m\n\u001b[1;32m    132\u001b[0m residuals \u001b[38;5;241m=\u001b[39m y \u001b[38;5;241m-\u001b[39m y_pred\n\u001b[1;32m    134\u001b[0m \u001b[38;5;66;03m# Regression Line\u001b[39;00m\n\u001b[1;32m    135\u001b[0m \u001b[38;5;66;03m#df = pd.concat([y,pd.Series(y_pred)], ignore_index=True, axis=1)\u001b[39;00m\n\u001b[1;32m    136\u001b[0m \u001b[38;5;66;03m#df.columns = [\"price\",\"predicted\"]\u001b[39;00m\n\u001b[0;32m--> 139\u001b[0m g \u001b[38;5;241m=\u001b[39m sns\u001b[38;5;241m.\u001b[39mjointplot(x\u001b[38;5;241m=\u001b[39my\u001b[38;5;241m.\u001b[39mto_numpy(), y\u001b[38;5;241m=\u001b[39m\u001b[43my_pred\u001b[49m\u001b[38;5;241;43m.\u001b[39;49m\u001b[43mto_numpy\u001b[49m(), kind\u001b[38;5;241m=\u001b[39m\u001b[38;5;124m\"\u001b[39m\u001b[38;5;124mreg\u001b[39m\u001b[38;5;124m\"\u001b[39m, height\u001b[38;5;241m=\u001b[39m\u001b[38;5;241m6\u001b[39m)\n\u001b[1;32m    143\u001b[0m \u001b[38;5;66;03m#plt.figure(figsize=(8, 6))\u001b[39;00m\n\u001b[1;32m    144\u001b[0m \u001b[38;5;66;03m#plt.scatter(y, y_pred, label=\"Regression\", color='blue')\u001b[39;00m\n\u001b[1;32m    145\u001b[0m \u001b[38;5;66;03m#plt.xlabel(\"Ground Truth\")\u001b[39;00m\n\u001b[0;32m   (...)\u001b[0m\n\u001b[1;32m    148\u001b[0m \u001b[38;5;66;03m#plt.legend()\u001b[39;00m\n\u001b[1;32m    149\u001b[0m \u001b[38;5;66;03m#plt.tight_layout()\u001b[39;00m\n\u001b[1;32m    150\u001b[0m reg_path \u001b[38;5;241m=\u001b[39m os\u001b[38;5;241m.\u001b[39mpath\u001b[38;5;241m.\u001b[39mjoin(output_dir, \u001b[38;5;124mf\u001b[39m\u001b[38;5;124m\"\u001b[39m\u001b[38;5;132;01m{\u001b[39;00mprefix\u001b[38;5;132;01m}\u001b[39;00m\u001b[38;5;124m_scatterplot.png\u001b[39m\u001b[38;5;124m\"\u001b[39m)\n",
      "\u001b[0;31mAttributeError\u001b[0m: 'numpy.ndarray' object has no attribute 'to_numpy'"
     ]
    }
   ],
   "source": [
    "import os\n",
    "import numpy as np\n",
    "import json\n",
    "import pathlib\n",
    "import pickle\n",
    "import seaborn as sns\n",
    "import matplotlib.pyplot as plt\n",
    "from typing import List\n",
    "from typing import Tuple\n",
    "import pandas\n",
    "import pandas as pd\n",
    "from sklearn import model_selection\n",
    "from sklearn import neighbors\n",
    "from sklearn import pipeline\n",
    "from sklearn import preprocessing\n",
    "from sklearn.metrics import (mean_absolute_error, \n",
    "                             mean_absolute_percentage_error, \n",
    "                             mean_squared_error, \n",
    "                             r2_score)\n",
    "\n",
    "SALES_PATH = \"../data/kc_house_data.csv\"  # path to CSV with home sale data\n",
    "DEMOGRAPHICS_PATH = \"../data/zipcode_demographics.csv\" # path to CSV with demographics\n",
    "# List of columns (subset) that will be taken from home sale data\n",
    "SALES_COLUMN_SELECTION = [\n",
    "    'price', 'bedrooms', 'bathrooms', 'sqft_living', 'sqft_lot', 'floors',\n",
    "    'sqft_above', 'sqft_basement', 'zipcode'\n",
    "]\n",
    "OUTPUT_DIR = \"model\"  # Directory where output artifacts will be saved\n",
    "\n",
    "\n",
    "def load_data(\n",
    "    sales_path: str, \n",
    "    demographics_path: str, \n",
    "    sales_column_selection: List[str], \n",
    ") -> Tuple[pandas.DataFrame, pandas.Series]:\n",
    "    \"\"\"Load the target and feature data by merging sales and demographics.\n",
    "\n",
    "    Args:\n",
    "        sales_path: path to CSV file with home sale data\n",
    "        demographics_path: path to CSV file with home sale data\n",
    "        sales_column_selection: list of columns from sales data to be used as\n",
    "            features\n",
    "\n",
    "    Returns:\n",
    "        Tuple containg with two elements: a DataFrame and a Series of the same\n",
    "        length.  The DataFrame contains features for machine learning, the\n",
    "        series contains the target variable (home sale price).\n",
    "\n",
    "    \"\"\"\n",
    "    data = pandas.read_csv(sales_path,\n",
    "                           usecols=sales_column_selection,\n",
    "                           dtype={'zipcode': str})\n",
    "    demographics = pandas.read_csv(demographics_path,\n",
    "                                   dtype={'zipcode': str})\n",
    "\n",
    "    merged_data = data.merge(demographics, how=\"left\",\n",
    "                             on=\"zipcode\").drop(columns=\"zipcode\")\n",
    "    # Remove the target variable from the dataframe, features will remain\n",
    "    y = merged_data.pop('price')\n",
    "    x = merged_data\n",
    "\n",
    "    return x, y\n",
    "\n",
    "def model_evaluation(model, \n",
    "                     X_test: pd.DataFrame, \n",
    "                     y_test: pd.Series) -> Tuple[dict, pd.Series]:\n",
    "\n",
    "    \"\"\"\n",
    "    Generate the regression metrics for a given model.\n",
    "\n",
    "    Args:\n",
    "\n",
    "\n",
    "    Return:\n",
    "    \n",
    "    \"\"\"\n",
    "\n",
    "    # Predictions\n",
    "    pred = model.predict(X_test)\n",
    "    print(np.isnan(pred))\n",
    "\n",
    "    # Mean Absolute error\n",
    "    mae = mean_absolute_error(y_true=y_test, y_pred=pred)\n",
    "\n",
    "    # Mean Absolute Percentage Error\n",
    "    mape = mean_absolute_percentage_error(y_true=y_test, y_pred=pred)\n",
    "\n",
    "    # Mean Squared Error\n",
    "    mse = mean_squared_error(y_true=y_test, y_pred=pred)\n",
    "\n",
    "    # Root Mean Squared Error\n",
    "    rmse=np.sqrt(mse)\n",
    "\n",
    "    # R-squared\n",
    "    r_squared = r2_score(y_true=y_test, y_pred=pred)\n",
    "\n",
    "    # metrics dict\n",
    "    metrics = {\n",
    "        \"MAE\": mae,\n",
    "        \"MAPE\": mape,\n",
    "        \"MSE\": mse,\n",
    "        \"RMSE\": rmse,\n",
    "        \"R-Squared\": r_squared\n",
    "    }\n",
    "\n",
    "    return metrics, pred\n",
    "\n",
    "def plot_regression_results(\n",
    "                            X:pd.DataFrame, \n",
    "                            y:pd.Series, \n",
    "                            pred:pd.Series,\n",
    "                            output_dir=OUTPUT_DIR, \n",
    "                            prefix=\"regression\"\n",
    "                            ):\n",
    "    \"\"\"\n",
    "    Generate a scatter plot with a regression line and residuals plot.\n",
    "\n",
    "    Args:\n",
    "    \n",
    "    - X: array-like or input Dataframe with one or more features.\n",
    "    - y: array-like or pandas series with the ground truth numbers.\n",
    "    - pred: array-like or pandas series with the predicted values of the model.\n",
    "    - output_dir: output directory.\n",
    "    - prefix: prefix to the name of the files.\n",
    "\n",
    "    Return:\n",
    "    Image files on the specified output_dir.\n",
    "    \"\"\"\n",
    "\n",
    "    # Residuals    \n",
    "    y_pred = pred\n",
    "    residuals = y - y_pred\n",
    "    \n",
    "    # Regression Line\n",
    "    #df = pd.concat([y,pd.Series(y_pred)], ignore_index=True, axis=1)\n",
    "    #df.columns = [\"price\",\"predicted\"]\n",
    "\n",
    "    \n",
    "    g = sns.jointplot(x=y_pred, y=y.to_numpy(), kind=\"reg\", height=6)\n",
    "\n",
    "\n",
    "\n",
    "    #plt.figure(figsize=(8, 6))\n",
    "    #plt.scatter(y, y_pred, label=\"Regression\", color='blue')\n",
    "    #plt.xlabel(\"Ground Truth\")\n",
    "    #plt.ylabel(\"Predicted\")\n",
    "    #plt.title(\"Regression\")\n",
    "    #plt.legend()\n",
    "    #plt.tight_layout()\n",
    "    reg_path = os.path.join(output_dir, f\"{prefix}_scatterplot.png\")\n",
    "    g.figure.savefig(reg_path)\n",
    "    #plt.close()\n",
    "\n",
    "    # Residuals plot\n",
    "    #plt.figure(figsize=(8, 6))\n",
    "    #plt.scatter(y_pred, residuals, color='purple')\n",
    "    #plt.axhline(y=0, color='black', linestyle='--')\n",
    "    #plt.xlabel(\"Predictions\")\n",
    "    #plt.ylabel(\"Residuals\")\n",
    "    #plt.title(\"Residuals plot\")\n",
    "    #plt.tight_layout()\n",
    "    #resid_path = os.path.join(output_dir, f\"{prefix}_residuals.png\")\n",
    "    #plt.savefig(resid_path)\n",
    "    #plt.close()\n",
    "\n",
    "    #print(f\"Plots delivered in:\\n - {reg_path}\\n - {resid_path}\")\n",
    "\n",
    "\n",
    "def main():\n",
    "    \"\"\"Load data, train model, and export artifacts.\"\"\"\n",
    "    x, y = load_data(SALES_PATH, DEMOGRAPHICS_PATH, SALES_COLUMN_SELECTION)\n",
    "    x_train, _x_test, y_train, _y_test = model_selection.train_test_split(\n",
    "        x, y, random_state=42)\n",
    "\n",
    "    model = pipeline.make_pipeline(preprocessing.RobustScaler(),\n",
    "                                   neighbors.KNeighborsRegressor()).fit(\n",
    "                                       x_train, y_train)\n",
    "    \n",
    "    # Model Evaluation\n",
    "    metrics, pred = model_evaluation(model=model, \n",
    "                               X_test=_x_test, \n",
    "                               y_test=_y_test)\n",
    "    \n",
    "    plot_regression_results(X=_x_test, y=_y_test, pred=pred)\n",
    "\n",
    "    output_dir = pathlib.Path(OUTPUT_DIR)\n",
    "    output_dir.mkdir(exist_ok=True)\n",
    "\n",
    "    # Saving the metrics\n",
    "    json.dump(metrics,\n",
    "              open(output_dir / \"metrics.json\", 'w'))\n",
    "\n",
    "    # Output model artifacts: pickled model and JSON list of features\n",
    "    pickle.dump(model, open(output_dir / \"model.pkl\", 'wb'))\n",
    "    json.dump(list(x_train.columns),\n",
    "              open(output_dir / \"model_features.json\", 'w'))\n",
    "\n",
    "\n",
    "if __name__ == \"__main__\":\n",
    "    main()\n"
   ]
  },
  {
   "cell_type": "code",
   "execution_count": null,
   "id": "ccd3288b",
   "metadata": {},
   "outputs": [],
   "source": []
  }
 ],
 "metadata": {
  "kernelspec": {
   "display_name": "housing",
   "language": "python",
   "name": "python3"
  },
  "language_info": {
   "codemirror_mode": {
    "name": "ipython",
    "version": 3
   },
   "file_extension": ".py",
   "mimetype": "text/x-python",
   "name": "python",
   "nbconvert_exporter": "python",
   "pygments_lexer": "ipython3",
   "version": "3.9.23"
  }
 },
 "nbformat": 4,
 "nbformat_minor": 5
}
