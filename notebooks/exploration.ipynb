{
 "cells": [
  {
   "cell_type": "code",
   "execution_count": 1,
   "id": "044976fc",
   "metadata": {},
   "outputs": [
    {
     "data": {
      "text/plain": [
       "True"
      ]
     },
     "execution_count": 1,
     "metadata": {},
     "output_type": "execute_result"
    }
   ],
   "source": [
    "import os\n",
    "import pandas as pd\n",
    "from dotenv import load_dotenv\n",
    "\n",
    "# Set the env variables\n",
    "load_dotenv()"
   ]
  },
  {
   "cell_type": "markdown",
   "id": "ec943221",
   "metadata": {},
   "source": [
    "## Exploring data"
   ]
  },
  {
   "cell_type": "code",
   "execution_count": 8,
   "id": "205a2daf",
   "metadata": {},
   "outputs": [
    {
     "data": {
      "text/plain": [
       "'/app/data/zipcode_demographics.csv'"
      ]
     },
     "execution_count": 8,
     "metadata": {},
     "output_type": "execute_result"
    }
   ],
   "source": [
    "mock = os.environ['APP_DEMOGRAPHICS_PATH']\n",
    "mock"
   ]
  },
  {
   "cell_type": "code",
   "execution_count": 2,
   "id": "e3eefc00",
   "metadata": {},
   "outputs": [],
   "source": [
    "SALES_PATH = os.getenv(\"SALES_PATH\")                      #\"../data/kc_house_data.csv\"  # path to CSV with home sale data\n",
    "DEMOGRAPHICS_PATH = os.getenv(\"DEMOGRAPHICS_PATH\")           #\"../data/zipcode_demographics.csv\"  # path to CSV with demographics\n",
    "# List of columns (subset) that will be taken from home sale data\n",
    "SALES_COLUMN_SELECTION = os.getenv(\"SALES_COLUMN_SELECTION\") #['price', 'bedrooms', 'bathrooms', 'sqft_living', 'sqft_lot', 'floors','sqft_above', 'sqft_basement', 'zipcode'] \n",
    "OUTPUT_DIR = os.getenv(\"OUTPUT_DIR\")                         #\"model\"  # Directory where output artifacts will be saved"
   ]
  },
  {
   "cell_type": "code",
   "execution_count": 7,
   "id": "43123536",
   "metadata": {},
   "outputs": [
    {
     "data": {
      "text/plain": [
       "'../data/kc_house_data.csv'"
      ]
     },
     "execution_count": 7,
     "metadata": {},
     "output_type": "execute_result"
    }
   ],
   "source": [
    "SALES_PATH"
   ]
  },
  {
   "cell_type": "code",
   "execution_count": 40,
   "id": "d9e7e951",
   "metadata": {},
   "outputs": [],
   "source": [
    "data = pd.read_csv(SALES_PATH,\n",
    "                           #usecols=eval(SALES_COLUMN_SELECTION),\n",
    "                           dtype={'zipcode': str})\n",
    "demographics = pd.read_csv(DEMOGRAPHICS_PATH,\n",
    "                                   dtype={'zipcode': str})"
   ]
  },
  {
   "cell_type": "code",
   "execution_count": 5,
   "id": "137c9951",
   "metadata": {},
   "outputs": [
    {
     "data": {
      "text/html": [
       "<div>\n",
       "<style scoped>\n",
       "    .dataframe tbody tr th:only-of-type {\n",
       "        vertical-align: middle;\n",
       "    }\n",
       "\n",
       "    .dataframe tbody tr th {\n",
       "        vertical-align: top;\n",
       "    }\n",
       "\n",
       "    .dataframe thead th {\n",
       "        text-align: right;\n",
       "    }\n",
       "</style>\n",
       "<table border=\"1\" class=\"dataframe\">\n",
       "  <thead>\n",
       "    <tr style=\"text-align: right;\">\n",
       "      <th></th>\n",
       "      <th>price</th>\n",
       "      <th>bedrooms</th>\n",
       "      <th>bathrooms</th>\n",
       "      <th>sqft_living</th>\n",
       "      <th>sqft_lot</th>\n",
       "      <th>floors</th>\n",
       "      <th>sqft_above</th>\n",
       "      <th>sqft_basement</th>\n",
       "      <th>zipcode</th>\n",
       "    </tr>\n",
       "  </thead>\n",
       "  <tbody>\n",
       "    <tr>\n",
       "      <th>0</th>\n",
       "      <td>221900.0</td>\n",
       "      <td>3</td>\n",
       "      <td>1.00</td>\n",
       "      <td>1180</td>\n",
       "      <td>5650</td>\n",
       "      <td>1.0</td>\n",
       "      <td>1180</td>\n",
       "      <td>0</td>\n",
       "      <td>98178</td>\n",
       "    </tr>\n",
       "    <tr>\n",
       "      <th>1</th>\n",
       "      <td>538000.0</td>\n",
       "      <td>3</td>\n",
       "      <td>2.25</td>\n",
       "      <td>2570</td>\n",
       "      <td>7242</td>\n",
       "      <td>2.0</td>\n",
       "      <td>2170</td>\n",
       "      <td>400</td>\n",
       "      <td>98125</td>\n",
       "    </tr>\n",
       "    <tr>\n",
       "      <th>2</th>\n",
       "      <td>180000.0</td>\n",
       "      <td>2</td>\n",
       "      <td>1.00</td>\n",
       "      <td>770</td>\n",
       "      <td>10000</td>\n",
       "      <td>1.0</td>\n",
       "      <td>770</td>\n",
       "      <td>0</td>\n",
       "      <td>98028</td>\n",
       "    </tr>\n",
       "  </tbody>\n",
       "</table>\n",
       "</div>"
      ],
      "text/plain": [
       "      price  bedrooms  bathrooms  sqft_living  sqft_lot  floors  sqft_above  \\\n",
       "0  221900.0         3       1.00         1180      5650     1.0        1180   \n",
       "1  538000.0         3       2.25         2570      7242     2.0        2170   \n",
       "2  180000.0         2       1.00          770     10000     1.0         770   \n",
       "\n",
       "   sqft_basement zipcode  \n",
       "0              0   98178  \n",
       "1            400   98125  \n",
       "2              0   98028  "
      ]
     },
     "execution_count": 5,
     "metadata": {},
     "output_type": "execute_result"
    }
   ],
   "source": [
    "data.head(3)"
   ]
  },
  {
   "cell_type": "code",
   "execution_count": 6,
   "id": "aee2b746",
   "metadata": {},
   "outputs": [
    {
     "data": {
      "text/plain": [
       "price            float64\n",
       "bedrooms           int64\n",
       "bathrooms        float64\n",
       "sqft_living        int64\n",
       "sqft_lot           int64\n",
       "floors           float64\n",
       "sqft_above         int64\n",
       "sqft_basement      int64\n",
       "zipcode           object\n",
       "dtype: object"
      ]
     },
     "execution_count": 6,
     "metadata": {},
     "output_type": "execute_result"
    }
   ],
   "source": [
    "data.dtypes"
   ]
  },
  {
   "cell_type": "code",
   "execution_count": 6,
   "id": "7c479584",
   "metadata": {},
   "outputs": [
    {
     "data": {
      "text/plain": [
       "Index(['ppltn_qty', 'urbn_ppltn_qty', 'sbrbn_ppltn_qty', 'farm_ppltn_qty',\n",
       "       'non_farm_qty', 'medn_hshld_incm_amt', 'medn_incm_per_prsn_amt',\n",
       "       'hous_val_amt', 'edctn_less_than_9_qty', 'edctn_9_12_qty',\n",
       "       'edctn_high_schl_qty', 'edctn_some_clg_qty', 'edctn_assoc_dgre_qty',\n",
       "       'edctn_bchlr_dgre_qty', 'edctn_prfsnl_qty', 'per_urbn', 'per_sbrbn',\n",
       "       'per_farm', 'per_non_farm', 'per_less_than_9', 'per_9_to_12', 'per_hsd',\n",
       "       'per_some_clg', 'per_assoc', 'per_bchlr', 'per_prfsnl', 'zipcode'],\n",
       "      dtype='object')"
      ]
     },
     "execution_count": 6,
     "metadata": {},
     "output_type": "execute_result"
    }
   ],
   "source": [
    "demographics.columns"
   ]
  },
  {
   "cell_type": "markdown",
   "id": "2aab224e",
   "metadata": {},
   "source": [
    "## Test script"
   ]
  },
  {
   "cell_type": "code",
   "execution_count": 42,
   "id": "6a4262ee",
   "metadata": {},
   "outputs": [
    {
     "data": {
      "text/plain": [
       "Index(['id', 'date', 'price', 'bedrooms', 'bathrooms', 'sqft_living',\n",
       "       'sqft_lot', 'floors', 'waterfront', 'view', 'condition', 'grade',\n",
       "       'sqft_above', 'sqft_basement', 'yr_built', 'yr_renovated', 'zipcode',\n",
       "       'lat', 'long', 'sqft_living15', 'sqft_lot15'],\n",
       "      dtype='object')"
      ]
     },
     "execution_count": 42,
     "metadata": {},
     "output_type": "execute_result"
    }
   ],
   "source": [
    "data.columns"
   ]
  },
  {
   "cell_type": "code",
   "execution_count": 43,
   "id": "a68e0b3f",
   "metadata": {},
   "outputs": [
    {
     "data": {
      "text/plain": [
       "Index(['bedrooms', 'bathrooms', 'sqft_living', 'sqft_lot', 'floors',\n",
       "       'waterfront', 'view', 'condition', 'grade', 'sqft_above',\n",
       "       'sqft_basement', 'yr_built', 'yr_renovated', 'zipcode', 'lat', 'long',\n",
       "       'sqft_living15', 'sqft_lot15'],\n",
       "      dtype='object')"
      ]
     },
     "execution_count": 43,
     "metadata": {},
     "output_type": "execute_result"
    }
   ],
   "source": [
    "unseen_data.columns"
   ]
  },
  {
   "cell_type": "code",
   "execution_count": 39,
   "id": "7ab540d7",
   "metadata": {},
   "outputs": [
    {
     "data": {
      "text/plain": [
       "Index(['ppltn_qty', 'urbn_ppltn_qty', 'sbrbn_ppltn_qty', 'farm_ppltn_qty',\n",
       "       'non_farm_qty', 'medn_hshld_incm_amt', 'medn_incm_per_prsn_amt',\n",
       "       'hous_val_amt', 'edctn_less_than_9_qty', 'edctn_9_12_qty',\n",
       "       'edctn_high_schl_qty', 'edctn_some_clg_qty', 'edctn_assoc_dgre_qty',\n",
       "       'edctn_bchlr_dgre_qty', 'edctn_prfsnl_qty', 'per_urbn', 'per_sbrbn',\n",
       "       'per_farm', 'per_non_farm', 'per_less_than_9', 'per_9_to_12', 'per_hsd',\n",
       "       'per_some_clg', 'per_assoc', 'per_bchlr', 'per_prfsnl', 'zipcode'],\n",
       "      dtype='object')"
      ]
     },
     "execution_count": 39,
     "metadata": {},
     "output_type": "execute_result"
    }
   ],
   "source": [
    "demographics.columns"
   ]
  },
  {
   "cell_type": "code",
   "execution_count": null,
   "id": "bf36cfa7",
   "metadata": {},
   "outputs": [],
   "source": [
    "import json\n",
    "import requests\n",
    "\n",
    "\n",
    "def test_hard_predict(url: str=os.getenv(\"URL_HARD_PREDICT\")):\n",
    " \n",
    "    # Header\n",
    "    headers = {\"content-type\": \"application/json\", \"Accept-Charset\": \"UTF-8\"}\n",
    "\n",
    "    # Load unseen data\n",
    "    features = eval(os.getenv(\"SALES_COLUMN_SELECTION\"))\n",
    "    features.remove('price')\n",
    "    unseen_data_path = os.getenv(\"UNSEEN_DATA\")\n",
    "    unseen_data = pd.read_csv(unseen_data_path)\n",
    "    unseen_data = unseen_data[features]\n",
    "\n",
    "    # Json\n",
    "    data_string = unseen_data.to_json(orient='columns')\n",
    "    data_load = json.loads(data_string)\n",
    "\n",
    "    # Request\n",
    "    r = requests.post(url, data=data_load, headers=headers)\n",
    "    return print(r, r.text)\n",
    "\n",
    "def test_soft_predict(url: str=os.getenv(\"URL_SOFT_PREDICT\")):\n",
    " \n",
    "    # Header\n",
    "    headers = {\"content-type\": \"application/json\", \"Accept-Charset\": \"UTF-8\"}\n",
    "\n",
    "    # Load unseen data\n",
    "    unseen_data_path = os.getenv(\"UNSEEN_DATA\")\n",
    "    unseen_data = pd.read_csv(unseen_data_path)\n",
    "\n",
    "    # Json\n",
    "    data_string = unseen_data.to_json(orient='columns')\n",
    "    data_load = json.loads(data_string)\n",
    "\n",
    "    # Request\n",
    "    r = requests.post(url, data=data_load, headers=headers)\n",
    "    return print(r, r.text)"
   ]
  },
  {
   "cell_type": "code",
   "execution_count": 14,
   "id": "21402420",
   "metadata": {},
   "outputs": [],
   "source": [
    "features = eval(os.getenv(\"SALES_COLUMN_SELECTION\"))\n",
    "#columns = features.remove('price')"
   ]
  },
  {
   "cell_type": "code",
   "execution_count": 17,
   "id": "97f13ce6",
   "metadata": {},
   "outputs": [
    {
     "data": {
      "text/plain": [
       "['bedrooms',\n",
       " 'bathrooms',\n",
       " 'sqft_living',\n",
       " 'sqft_lot',\n",
       " 'floors',\n",
       " 'sqft_above',\n",
       " 'sqft_basement',\n",
       " 'zipcode']"
      ]
     },
     "execution_count": 17,
     "metadata": {},
     "output_type": "execute_result"
    }
   ],
   "source": [
    "features\n"
   ]
  },
  {
   "cell_type": "code",
   "execution_count": 3,
   "id": "1251663e",
   "metadata": {},
   "outputs": [
    {
     "ename": "KeyError",
     "evalue": "None",
     "output_type": "error",
     "traceback": [
      "\u001b[0;31m---------------------------------------------------------------------------\u001b[0m",
      "\u001b[0;31mKeyError\u001b[0m                                  Traceback (most recent call last)",
      "File \u001b[0;32m~/miniconda3/envs/housing/lib/python3.9/site-packages/pandas/core/indexes/base.py:3790\u001b[0m, in \u001b[0;36mIndex.get_loc\u001b[0;34m(self, key)\u001b[0m\n\u001b[1;32m   3789\u001b[0m \u001b[38;5;28;01mtry\u001b[39;00m:\n\u001b[0;32m-> 3790\u001b[0m     \u001b[38;5;28;01mreturn\u001b[39;00m \u001b[38;5;28;43mself\u001b[39;49m\u001b[38;5;241;43m.\u001b[39;49m\u001b[43m_engine\u001b[49m\u001b[38;5;241;43m.\u001b[39;49m\u001b[43mget_loc\u001b[49m\u001b[43m(\u001b[49m\u001b[43mcasted_key\u001b[49m\u001b[43m)\u001b[49m\n\u001b[1;32m   3791\u001b[0m \u001b[38;5;28;01mexcept\u001b[39;00m \u001b[38;5;167;01mKeyError\u001b[39;00m \u001b[38;5;28;01mas\u001b[39;00m err:\n",
      "File \u001b[0;32mindex.pyx:152\u001b[0m, in \u001b[0;36mpandas._libs.index.IndexEngine.get_loc\u001b[0;34m()\u001b[0m\n",
      "File \u001b[0;32mindex.pyx:181\u001b[0m, in \u001b[0;36mpandas._libs.index.IndexEngine.get_loc\u001b[0;34m()\u001b[0m\n",
      "File \u001b[0;32mpandas/_libs/hashtable_class_helper.pxi:7080\u001b[0m, in \u001b[0;36mpandas._libs.hashtable.PyObjectHashTable.get_item\u001b[0;34m()\u001b[0m\n",
      "File \u001b[0;32mpandas/_libs/hashtable_class_helper.pxi:7088\u001b[0m, in \u001b[0;36mpandas._libs.hashtable.PyObjectHashTable.get_item\u001b[0;34m()\u001b[0m\n",
      "\u001b[0;31mKeyError\u001b[0m: None",
      "\nThe above exception was the direct cause of the following exception:\n",
      "\u001b[0;31mKeyError\u001b[0m                                  Traceback (most recent call last)",
      "Cell \u001b[0;32mIn[3], line 6\u001b[0m\n\u001b[1;32m      4\u001b[0m unseen_data_path \u001b[38;5;241m=\u001b[39m os\u001b[38;5;241m.\u001b[39mgetenv(\u001b[38;5;124m\"\u001b[39m\u001b[38;5;124mUNSEEN_DATA\u001b[39m\u001b[38;5;124m\"\u001b[39m)\n\u001b[1;32m      5\u001b[0m unseen_data \u001b[38;5;241m=\u001b[39m pd\u001b[38;5;241m.\u001b[39mread_csv(unseen_data_path)\n\u001b[0;32m----> 6\u001b[0m unseen_data \u001b[38;5;241m=\u001b[39m \u001b[43munseen_data\u001b[49m\u001b[43m[\u001b[49m\u001b[43mfeatures\u001b[49m\u001b[43m]\u001b[49m\n\u001b[1;32m      8\u001b[0m \u001b[38;5;66;03m# Json\u001b[39;00m\n\u001b[1;32m      9\u001b[0m data_string \u001b[38;5;241m=\u001b[39m unseen_data\u001b[38;5;241m.\u001b[39mto_json(orient\u001b[38;5;241m=\u001b[39m\u001b[38;5;124m'\u001b[39m\u001b[38;5;124mcolumns\u001b[39m\u001b[38;5;124m'\u001b[39m)\n",
      "File \u001b[0;32m~/miniconda3/envs/housing/lib/python3.9/site-packages/pandas/core/frame.py:3896\u001b[0m, in \u001b[0;36mDataFrame.__getitem__\u001b[0;34m(self, key)\u001b[0m\n\u001b[1;32m   3894\u001b[0m \u001b[38;5;28;01mif\u001b[39;00m \u001b[38;5;28mself\u001b[39m\u001b[38;5;241m.\u001b[39mcolumns\u001b[38;5;241m.\u001b[39mnlevels \u001b[38;5;241m>\u001b[39m \u001b[38;5;241m1\u001b[39m:\n\u001b[1;32m   3895\u001b[0m     \u001b[38;5;28;01mreturn\u001b[39;00m \u001b[38;5;28mself\u001b[39m\u001b[38;5;241m.\u001b[39m_getitem_multilevel(key)\n\u001b[0;32m-> 3896\u001b[0m indexer \u001b[38;5;241m=\u001b[39m \u001b[38;5;28;43mself\u001b[39;49m\u001b[38;5;241;43m.\u001b[39;49m\u001b[43mcolumns\u001b[49m\u001b[38;5;241;43m.\u001b[39;49m\u001b[43mget_loc\u001b[49m\u001b[43m(\u001b[49m\u001b[43mkey\u001b[49m\u001b[43m)\u001b[49m\n\u001b[1;32m   3897\u001b[0m \u001b[38;5;28;01mif\u001b[39;00m is_integer(indexer):\n\u001b[1;32m   3898\u001b[0m     indexer \u001b[38;5;241m=\u001b[39m [indexer]\n",
      "File \u001b[0;32m~/miniconda3/envs/housing/lib/python3.9/site-packages/pandas/core/indexes/base.py:3797\u001b[0m, in \u001b[0;36mIndex.get_loc\u001b[0;34m(self, key)\u001b[0m\n\u001b[1;32m   3792\u001b[0m     \u001b[38;5;28;01mif\u001b[39;00m \u001b[38;5;28misinstance\u001b[39m(casted_key, \u001b[38;5;28mslice\u001b[39m) \u001b[38;5;129;01mor\u001b[39;00m (\n\u001b[1;32m   3793\u001b[0m         \u001b[38;5;28misinstance\u001b[39m(casted_key, abc\u001b[38;5;241m.\u001b[39mIterable)\n\u001b[1;32m   3794\u001b[0m         \u001b[38;5;129;01mand\u001b[39;00m \u001b[38;5;28many\u001b[39m(\u001b[38;5;28misinstance\u001b[39m(x, \u001b[38;5;28mslice\u001b[39m) \u001b[38;5;28;01mfor\u001b[39;00m x \u001b[38;5;129;01min\u001b[39;00m casted_key)\n\u001b[1;32m   3795\u001b[0m     ):\n\u001b[1;32m   3796\u001b[0m         \u001b[38;5;28;01mraise\u001b[39;00m InvalidIndexError(key)\n\u001b[0;32m-> 3797\u001b[0m     \u001b[38;5;28;01mraise\u001b[39;00m \u001b[38;5;167;01mKeyError\u001b[39;00m(key) \u001b[38;5;28;01mfrom\u001b[39;00m\u001b[38;5;250m \u001b[39m\u001b[38;5;21;01merr\u001b[39;00m\n\u001b[1;32m   3798\u001b[0m \u001b[38;5;28;01mexcept\u001b[39;00m \u001b[38;5;167;01mTypeError\u001b[39;00m:\n\u001b[1;32m   3799\u001b[0m     \u001b[38;5;66;03m# If we have a listlike key, _check_indexing_error will raise\u001b[39;00m\n\u001b[1;32m   3800\u001b[0m     \u001b[38;5;66;03m#  InvalidIndexError. Otherwise we fall through and re-raise\u001b[39;00m\n\u001b[1;32m   3801\u001b[0m     \u001b[38;5;66;03m#  the TypeError.\u001b[39;00m\n\u001b[1;32m   3802\u001b[0m     \u001b[38;5;28mself\u001b[39m\u001b[38;5;241m.\u001b[39m_check_indexing_error(key)\n",
      "\u001b[0;31mKeyError\u001b[0m: None"
     ]
    }
   ],
   "source": [
    "# Load unseen data\n",
    "features = eval(os.getenv(\"SALES_COLUMN_SELECTION\"))\n",
    "features = features.remove('price')\n",
    "unseen_data_path = os.getenv(\"UNSEEN_DATA\")\n",
    "unseen_data = pd.read_csv(unseen_data_path)\n",
    "unseen_data = unseen_data[features]\n",
    "\n",
    "# Json\n",
    "data_string = unseen_data.to_json(orient='columns')\n",
    "data_load = json.loads(data_string)\n",
    "data_string"
   ]
  },
  {
   "cell_type": "code",
   "execution_count": 4,
   "id": "53db4885",
   "metadata": {},
   "outputs": [],
   "source": [
    "features"
   ]
  },
  {
   "cell_type": "markdown",
   "id": "9c40315a",
   "metadata": {},
   "source": [
    "## Testing inference"
   ]
  },
  {
   "cell_type": "code",
   "execution_count": 13,
   "id": "58ce9548",
   "metadata": {},
   "outputs": [],
   "source": [
    "import pickle\n",
    "import logging\n",
    "from pydantic import BaseModel, Field\n",
    "from fastapi import HTTPException\n",
    "\n",
    "model_file = open(os.getenv(\"MODEL_PATH\"), 'rb')\n",
    "MODEL = pickle.load(model_file)\n",
    "\n",
    "class PayloadValidation(BaseModel):\n",
    "    bedrooms: dict = Field(default={})\n",
    "    bathrooms: dict = Field(default={})\n",
    "    sqft_living: dict = Field(default={})\n",
    "    sqft_lot: dict = Field(default={})\n",
    "    floors: dict = Field(default={})\n",
    "    sqft_above: dict = Field(default={})\n",
    "    sqft_basement: dict = Field(default={})\n"
   ]
  },
  {
   "cell_type": "code",
   "execution_count": 14,
   "id": "602ac085",
   "metadata": {},
   "outputs": [],
   "source": [
    "def get_prediction(payload: PayloadValidation):\n",
    "    \n",
    "    \"\"\"Handles the inference pipeline\"\"\"\n",
    "\n",
    "    try:\n",
    "\n",
    "        logging.info(\"Request received!!!\")\n",
    "\n",
    "        # Incoming data\n",
    "        message_data = pd.DataFrame(payload)\n",
    "\n",
    "        # Demographics data\n",
    "        demo_data = pd.read_csv(os.getenv(\"DEMOGRAPHICS_PATH\"))\n",
    "\n",
    "        # Merging\n",
    "        merged_data = message_data.merge(demo_data, how=\"left\",\n",
    "                                         on=\"zipcode\").drop(columns=\"zipcode\")\n",
    "\n",
    "        #Model features\n",
    "        features = pd.read_json(os.getenv(\"FEATURES\"))\n",
    "        features = features[0].to_list()\n",
    "        \n",
    "        # Make predictions on payload\n",
    "        pred = MODEL.predict(merged_data[features])\n",
    "\n",
    "        #prettifying the predictions\n",
    "        response = dict()\n",
    "        for i in range(len(pred)):\n",
    "            response[f\"real_state-{i}\"] = pred[i]\n",
    "        \n",
    "        return response\n",
    "    \n",
    "    except Exception as e:\n",
    "        logging.error(f\"Processing failed: {str(e)}\")\n",
    "        raise HTTPException(status_code=500, detail=\"An error occured during processing\") from e"
   ]
  },
  {
   "cell_type": "code",
   "execution_count": 15,
   "id": "464719c8",
   "metadata": {},
   "outputs": [],
   "source": [
    "res = get_prediction(payload=data_load)"
   ]
  },
  {
   "cell_type": "code",
   "execution_count": 16,
   "id": "c081018b",
   "metadata": {},
   "outputs": [
    {
     "data": {
      "text/plain": [
       "{'real_state-0': 458520.0,\n",
       " 'real_state-1': 612800.0,\n",
       " 'real_state-2': 449160.0,\n",
       " 'real_state-3': 679700.0,\n",
       " 'real_state-4': 304256.0,\n",
       " 'real_state-5': 553798.0,\n",
       " 'real_state-6': 341800.0,\n",
       " 'real_state-7': 445350.0,\n",
       " 'real_state-8': 990500.0,\n",
       " 'real_state-9': 532940.0,\n",
       " 'real_state-10': 422700.0,\n",
       " 'real_state-11': 484220.0,\n",
       " 'real_state-12': 499400.0,\n",
       " 'real_state-13': 358470.0,\n",
       " 'real_state-14': 790700.0,\n",
       " 'real_state-15': 236300.0,\n",
       " 'real_state-16': 426950.0,\n",
       " 'real_state-17': 687600.0,\n",
       " 'real_state-18': 619880.0,\n",
       " 'real_state-19': 438000.0,\n",
       " 'real_state-20': 520800.0,\n",
       " 'real_state-21': 669300.2,\n",
       " 'real_state-22': 549036.0,\n",
       " 'real_state-23': 411100.0,\n",
       " 'real_state-24': 250190.0,\n",
       " 'real_state-25': 313590.0,\n",
       " 'real_state-26': 730800.0,\n",
       " 'real_state-27': 285730.0,\n",
       " 'real_state-28': 256990.0,\n",
       " 'real_state-29': 390200.0,\n",
       " 'real_state-30': 285942.4,\n",
       " 'real_state-31': 865700.0,\n",
       " 'real_state-32': 975500.0,\n",
       " 'real_state-33': 494936.0,\n",
       " 'real_state-34': 272090.0,\n",
       " 'real_state-35': 297900.0,\n",
       " 'real_state-36': 302298.0,\n",
       " 'real_state-37': 612000.0,\n",
       " 'real_state-38': 222590.0,\n",
       " 'real_state-39': 297940.0,\n",
       " 'real_state-40': 213800.0,\n",
       " 'real_state-41': 796988.0,\n",
       " 'real_state-42': 407260.0,\n",
       " 'real_state-43': 307300.0,\n",
       " 'real_state-44': 451000.0,\n",
       " 'real_state-45': 263660.0,\n",
       " 'real_state-46': 299560.0,\n",
       " 'real_state-47': 658200.0,\n",
       " 'real_state-48': 261500.0,\n",
       " 'real_state-49': 288890.0,\n",
       " 'real_state-50': 1241796.0,\n",
       " 'real_state-51': 279380.0,\n",
       " 'real_state-52': 252390.0,\n",
       " 'real_state-53': 252980.0,\n",
       " 'real_state-54': 569370.0,\n",
       " 'real_state-55': 524790.0,\n",
       " 'real_state-56': 602670.0,\n",
       " 'real_state-57': 427900.0,\n",
       " 'real_state-58': 406000.0,\n",
       " 'real_state-59': 890000.0,\n",
       " 'real_state-60': 486090.0,\n",
       " 'real_state-61': 317402.0,\n",
       " 'real_state-62': 886700.0,\n",
       " 'real_state-63': 421650.0,\n",
       " 'real_state-64': 321999.0,\n",
       " 'real_state-65': 390360.0,\n",
       " 'real_state-66': 486980.0,\n",
       " 'real_state-67': 499000.0,\n",
       " 'real_state-68': 344200.0,\n",
       " 'real_state-69': 558650.0,\n",
       " 'real_state-70': 264590.0,\n",
       " 'real_state-71': 711190.0,\n",
       " 'real_state-72': 259930.0,\n",
       " 'real_state-73': 614000.0,\n",
       " 'real_state-74': 424089.8,\n",
       " 'real_state-75': 522800.0,\n",
       " 'real_state-76': 520300.0,\n",
       " 'real_state-77': 412600.0,\n",
       " 'real_state-78': 830000.0,\n",
       " 'real_state-79': 258906.0,\n",
       " 'real_state-80': 726500.0,\n",
       " 'real_state-81': 565600.0,\n",
       " 'real_state-82': 220941.6,\n",
       " 'real_state-83': 404500.0,\n",
       " 'real_state-84': 412002.8,\n",
       " 'real_state-85': 795932.0,\n",
       " 'real_state-86': 184300.0,\n",
       " 'real_state-87': 562750.0,\n",
       " 'real_state-88': 540614.0,\n",
       " 'real_state-89': 364400.0,\n",
       " 'real_state-90': 242000.0,\n",
       " 'real_state-91': 644200.0,\n",
       " 'real_state-92': 272200.0,\n",
       " 'real_state-93': 500990.0,\n",
       " 'real_state-94': 831690.0,\n",
       " 'real_state-95': 535800.0,\n",
       " 'real_state-96': 452800.0,\n",
       " 'real_state-97': 471817.0,\n",
       " 'real_state-98': 609388.0,\n",
       " 'real_state-99': 573300.0}"
      ]
     },
     "execution_count": 16,
     "metadata": {},
     "output_type": "execute_result"
    }
   ],
   "source": [
    "res"
   ]
  },
  {
   "cell_type": "code",
   "execution_count": null,
   "id": "938e643b",
   "metadata": {},
   "outputs": [
    {
     "data": {
      "text/plain": [
       "{}"
      ]
     },
     "execution_count": 30,
     "metadata": {},
     "output_type": "execute_result"
    }
   ],
   "source": []
  }
 ],
 "metadata": {
  "kernelspec": {
   "display_name": "housing",
   "language": "python",
   "name": "python3"
  },
  "language_info": {
   "codemirror_mode": {
    "name": "ipython",
    "version": 3
   },
   "file_extension": ".py",
   "mimetype": "text/x-python",
   "name": "python",
   "nbconvert_exporter": "python",
   "pygments_lexer": "ipython3",
   "version": "3.9.23"
  }
 },
 "nbformat": 4,
 "nbformat_minor": 5
}
