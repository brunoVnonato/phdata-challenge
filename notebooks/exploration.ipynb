{
 "cells": [
  {
   "cell_type": "code",
   "execution_count": null,
   "id": "044976fc",
   "metadata": {},
   "outputs": [],
   "source": [
    "import pandas as pd"
   ]
  },
  {
   "cell_type": "markdown",
   "id": "ec943221",
   "metadata": {},
   "source": [
    "## Exploring data"
   ]
  },
  {
   "cell_type": "code",
   "execution_count": 14,
   "id": "e3eefc00",
   "metadata": {},
   "outputs": [],
   "source": [
    "SALES_PATH = \"../data/kc_house_data.csv\"  # path to CSV with home sale data\n",
    "DEMOGRAPHICS_PATH = \"../data/zipcode_demographics.csv\"  # path to CSV with demographics\n",
    "# List of columns (subset) that will be taken from home sale data\n",
    "SALES_COLUMN_SELECTION = [\n",
    "    'price', 'bedrooms', 'bathrooms', 'sqft_living', 'sqft_lot', 'floors',\n",
    "    'sqft_above', 'sqft_basement', 'zipcode'\n",
    "]\n",
    "OUTPUT_DIR = \"model\"  # Directory where output artifacts will be saved"
   ]
  },
  {
   "cell_type": "code",
   "execution_count": 15,
   "id": "d9e7e951",
   "metadata": {},
   "outputs": [],
   "source": [
    "data = pd.read_csv(SALES_PATH,\n",
    "                           usecols=SALES_COLUMN_SELECTION,\n",
    "                           dtype={'zipcode': str})\n",
    "demographics = pd.read_csv(DEMOGRAPHICS_PATH,\n",
    "                                   dtype={'zipcode': str})"
   ]
  },
  {
   "cell_type": "code",
   "execution_count": 16,
   "id": "137c9951",
   "metadata": {},
   "outputs": [
    {
     "data": {
      "text/plain": [
       "Index(['price', 'bedrooms', 'bathrooms', 'sqft_living', 'sqft_lot', 'floors',\n",
       "       'sqft_above', 'sqft_basement', 'zipcode'],\n",
       "      dtype='object')"
      ]
     },
     "execution_count": 16,
     "metadata": {},
     "output_type": "execute_result"
    }
   ],
   "source": [
    "data.columns"
   ]
  },
  {
   "cell_type": "code",
   "execution_count": 18,
   "id": "aee2b746",
   "metadata": {},
   "outputs": [
    {
     "data": {
      "text/plain": [
       "price            float64\n",
       "bedrooms           int64\n",
       "bathrooms        float64\n",
       "sqft_living        int64\n",
       "sqft_lot           int64\n",
       "floors           float64\n",
       "sqft_above         int64\n",
       "sqft_basement      int64\n",
       "zipcode           object\n",
       "dtype: object"
      ]
     },
     "execution_count": 18,
     "metadata": {},
     "output_type": "execute_result"
    }
   ],
   "source": [
    "data.dtypes"
   ]
  },
  {
   "cell_type": "code",
   "execution_count": 17,
   "id": "7c479584",
   "metadata": {},
   "outputs": [
    {
     "data": {
      "text/plain": [
       "Index(['ppltn_qty', 'urbn_ppltn_qty', 'sbrbn_ppltn_qty', 'farm_ppltn_qty',\n",
       "       'non_farm_qty', 'medn_hshld_incm_amt', 'medn_incm_per_prsn_amt',\n",
       "       'hous_val_amt', 'edctn_less_than_9_qty', 'edctn_9_12_qty',\n",
       "       'edctn_high_schl_qty', 'edctn_some_clg_qty', 'edctn_assoc_dgre_qty',\n",
       "       'edctn_bchlr_dgre_qty', 'edctn_prfsnl_qty', 'per_urbn', 'per_sbrbn',\n",
       "       'per_farm', 'per_non_farm', 'per_less_than_9', 'per_9_to_12', 'per_hsd',\n",
       "       'per_some_clg', 'per_assoc', 'per_bchlr', 'per_prfsnl', 'zipcode'],\n",
       "      dtype='object')"
      ]
     },
     "execution_count": 17,
     "metadata": {},
     "output_type": "execute_result"
    }
   ],
   "source": [
    "demographics.columns"
   ]
  },
  {
   "cell_type": "markdown",
   "id": "9c40315a",
   "metadata": {},
   "source": [
    "## Testing inference"
   ]
  },
  {
   "cell_type": "code",
   "execution_count": null,
   "id": "58ce9548",
   "metadata": {},
   "outputs": [],
   "source": []
  },
  {
   "cell_type": "code",
   "execution_count": null,
   "id": "602ac085",
   "metadata": {},
   "outputs": [],
   "source": []
  },
  {
   "cell_type": "code",
   "execution_count": null,
   "id": "464719c8",
   "metadata": {},
   "outputs": [],
   "source": []
  }
 ],
 "metadata": {
  "kernelspec": {
   "display_name": "housing",
   "language": "python",
   "name": "python3"
  },
  "language_info": {
   "codemirror_mode": {
    "name": "ipython",
    "version": 3
   },
   "file_extension": ".py",
   "mimetype": "text/x-python",
   "name": "python",
   "nbconvert_exporter": "python",
   "pygments_lexer": "ipython3",
   "version": "3.9.23"
  }
 },
 "nbformat": 4,
 "nbformat_minor": 5
}
