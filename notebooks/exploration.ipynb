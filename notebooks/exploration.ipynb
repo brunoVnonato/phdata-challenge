{
 "cells": [
  {
   "cell_type": "code",
   "execution_count": 1,
   "id": "044976fc",
   "metadata": {},
   "outputs": [
    {
     "data": {
      "text/plain": [
       "True"
      ]
     },
     "execution_count": 1,
     "metadata": {},
     "output_type": "execute_result"
    }
   ],
   "source": [
    "import os\n",
    "\n",
    "import pandas as pd\n",
    "from dotenv import load_dotenv\n",
    "\n",
    "# Set the env variables\n",
    "load_dotenv()"
   ]
  },
  {
   "cell_type": "markdown",
   "id": "ec943221",
   "metadata": {},
   "source": [
    "## Exploring data"
   ]
  },
  {
   "cell_type": "code",
   "execution_count": 8,
   "id": "205a2daf",
   "metadata": {},
   "outputs": [
    {
     "data": {
      "text/plain": [
       "'/app/data/zipcode_demographics.csv'"
      ]
     },
     "execution_count": 8,
     "metadata": {},
     "output_type": "execute_result"
    }
   ],
   "source": [
    "mock = os.environ[\"APP_DEMOGRAPHICS_PATH\"]\n",
    "mock"
   ]
  },
  {
   "cell_type": "code",
   "execution_count": 2,
   "id": "e3eefc00",
   "metadata": {},
   "outputs": [],
   "source": [
    "SALES_PATH = os.getenv(\n",
    "    \"SALES_PATH\",\n",
    ")  # \"../data/kc_house_data.csv\"  # path to CSV with home sale data\n",
    "DEMOGRAPHICS_PATH = os.getenv(\n",
    "    \"DEMOGRAPHICS_PATH\",\n",
    ")  # \"../data/zipcode_demographics.csv\"  # path to CSV with demographics\n",
    "# List of columns (subset) that will be taken from home sale data\n",
    "SALES_COLUMN_SELECTION = os.getenv(\n",
    "    \"SALES_COLUMN_SELECTION\",\n",
    ")  # ['price', 'bedrooms', 'bathrooms', 'sqft_living', 'sqft_lot', 'floors','sqft_above', 'sqft_basement', 'zipcode']\n",
    "OUTPUT_DIR = os.getenv(\n",
    "    \"OUTPUT_DIR\",\n",
    ")  # \"model\"  # Directory where output artifacts will be saved"
   ]
  },
  {
   "cell_type": "code",
   "execution_count": 7,
   "id": "43123536",
   "metadata": {},
   "outputs": [
    {
     "data": {
      "text/plain": [
       "'../data/kc_house_data.csv'"
      ]
     },
     "execution_count": 7,
     "metadata": {},
     "output_type": "execute_result"
    }
   ],
   "source": [
    "SALES_PATH"
   ]
  },
  {
   "cell_type": "code",
   "execution_count": 40,
   "id": "d9e7e951",
   "metadata": {},
   "outputs": [],
   "source": [
    "data = pd.read_csv(\n",
    "    SALES_PATH,\n",
    "    # usecols=eval(SALES_COLUMN_SELECTION),\n",
    "    dtype={\"zipcode\": str},\n",
    ")\n",
    "demographics = pd.read_csv(DEMOGRAPHICS_PATH, dtype={\"zipcode\": str})"
   ]
  },
  {
   "cell_type": "code",
   "execution_count": 5,
   "id": "137c9951",
   "metadata": {},
   "outputs": [
    {
     "data": {
      "text/html": [
       "<div>\n",
       "<style scoped>\n",
       "    .dataframe tbody tr th:only-of-type {\n",
       "        vertical-align: middle;\n",
       "    }\n",
       "\n",
       "    .dataframe tbody tr th {\n",
       "        vertical-align: top;\n",
       "    }\n",
       "\n",
       "    .dataframe thead th {\n",
       "        text-align: right;\n",
       "    }\n",
       "</style>\n",
       "<table border=\"1\" class=\"dataframe\">\n",
       "  <thead>\n",
       "    <tr style=\"text-align: right;\">\n",
       "      <th></th>\n",
       "      <th>price</th>\n",
       "      <th>bedrooms</th>\n",
       "      <th>bathrooms</th>\n",
       "      <th>sqft_living</th>\n",
       "      <th>sqft_lot</th>\n",
       "      <th>floors</th>\n",
       "      <th>sqft_above</th>\n",
       "      <th>sqft_basement</th>\n",
       "      <th>zipcode</th>\n",
       "    </tr>\n",
       "  </thead>\n",
       "  <tbody>\n",
       "    <tr>\n",
       "      <th>0</th>\n",
       "      <td>221900.0</td>\n",
       "      <td>3</td>\n",
       "      <td>1.00</td>\n",
       "      <td>1180</td>\n",
       "      <td>5650</td>\n",
       "      <td>1.0</td>\n",
       "      <td>1180</td>\n",
       "      <td>0</td>\n",
       "      <td>98178</td>\n",
       "    </tr>\n",
       "    <tr>\n",
       "      <th>1</th>\n",
       "      <td>538000.0</td>\n",
       "      <td>3</td>\n",
       "      <td>2.25</td>\n",
       "      <td>2570</td>\n",
       "      <td>7242</td>\n",
       "      <td>2.0</td>\n",
       "      <td>2170</td>\n",
       "      <td>400</td>\n",
       "      <td>98125</td>\n",
       "    </tr>\n",
       "    <tr>\n",
       "      <th>2</th>\n",
       "      <td>180000.0</td>\n",
       "      <td>2</td>\n",
       "      <td>1.00</td>\n",
       "      <td>770</td>\n",
       "      <td>10000</td>\n",
       "      <td>1.0</td>\n",
       "      <td>770</td>\n",
       "      <td>0</td>\n",
       "      <td>98028</td>\n",
       "    </tr>\n",
       "  </tbody>\n",
       "</table>\n",
       "</div>"
      ],
      "text/plain": [
       "      price  bedrooms  bathrooms  sqft_living  sqft_lot  floors  sqft_above  \\\n",
       "0  221900.0         3       1.00         1180      5650     1.0        1180   \n",
       "1  538000.0         3       2.25         2570      7242     2.0        2170   \n",
       "2  180000.0         2       1.00          770     10000     1.0         770   \n",
       "\n",
       "   sqft_basement zipcode  \n",
       "0              0   98178  \n",
       "1            400   98125  \n",
       "2              0   98028  "
      ]
     },
     "execution_count": 5,
     "metadata": {},
     "output_type": "execute_result"
    }
   ],
   "source": [
    "data.head(3)"
   ]
  },
  {
   "cell_type": "code",
   "execution_count": 6,
   "id": "aee2b746",
   "metadata": {},
   "outputs": [
    {
     "data": {
      "text/plain": [
       "price            float64\n",
       "bedrooms           int64\n",
       "bathrooms        float64\n",
       "sqft_living        int64\n",
       "sqft_lot           int64\n",
       "floors           float64\n",
       "sqft_above         int64\n",
       "sqft_basement      int64\n",
       "zipcode           object\n",
       "dtype: object"
      ]
     },
     "execution_count": 6,
     "metadata": {},
     "output_type": "execute_result"
    }
   ],
   "source": [
    "data.dtypes"
   ]
  },
  {
   "cell_type": "code",
   "execution_count": 6,
   "id": "7c479584",
   "metadata": {},
   "outputs": [
    {
     "data": {
      "text/plain": [
       "Index(['ppltn_qty', 'urbn_ppltn_qty', 'sbrbn_ppltn_qty', 'farm_ppltn_qty',\n",
       "       'non_farm_qty', 'medn_hshld_incm_amt', 'medn_incm_per_prsn_amt',\n",
       "       'hous_val_amt', 'edctn_less_than_9_qty', 'edctn_9_12_qty',\n",
       "       'edctn_high_schl_qty', 'edctn_some_clg_qty', 'edctn_assoc_dgre_qty',\n",
       "       'edctn_bchlr_dgre_qty', 'edctn_prfsnl_qty', 'per_urbn', 'per_sbrbn',\n",
       "       'per_farm', 'per_non_farm', 'per_less_than_9', 'per_9_to_12', 'per_hsd',\n",
       "       'per_some_clg', 'per_assoc', 'per_bchlr', 'per_prfsnl', 'zipcode'],\n",
       "      dtype='object')"
      ]
     },
     "execution_count": 6,
     "metadata": {},
     "output_type": "execute_result"
    }
   ],
   "source": [
    "demographics.columns"
   ]
  }
 ],
 "metadata": {
  "kernelspec": {
   "display_name": "housing",
   "language": "python",
   "name": "python3"
  },
  "language_info": {
   "codemirror_mode": {
    "name": "ipython",
    "version": 3
   },
   "file_extension": ".py",
   "mimetype": "text/x-python",
   "name": "python",
   "nbconvert_exporter": "python",
   "pygments_lexer": "ipython3",
   "version": "3.9.23"
  }
 },
 "nbformat": 4,
 "nbformat_minor": 5
}
